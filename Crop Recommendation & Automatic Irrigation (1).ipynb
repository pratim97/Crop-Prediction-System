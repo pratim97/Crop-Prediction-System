{
 "cells": [
  {
   "cell_type": "markdown",
   "id": "7150dd9e",
   "metadata": {},
   "source": [
    "# Crop Recommendation & Automatic Irrigation\n",
    "\n",
    "This notebook contains the codes & results for the crop recommendation and intelligent irrigation system data exploration & model experimentation, and is part of the final project submission for Team 6 (MSBA Group A) for the course AN6002 Analytics & ML in Business. \n",
    "\n",
    "The datasets are obtained from [Kaggle](https://www.kaggle.com/), with specific links for each dataset below:\n",
    "- [Crop Recommendation Dataset](https://www.kaggle.com/datasets/atharvaingle/crop-recommendation-dataset/)\n",
    "- [Intelligent Irrigation System Dataset](https://www.kaggle.com/datasets/harshilpatel355/autoirrigationdata?select=data.csv)\n",
    "\n",
    "This notebook will be further divided into 3 sections, namely:\n",
    "- Setup\n",
    "- ML Model Training on Crop Recommendation Dataset\n",
    "- ML Model Training on Intelligent Irrigation System Dataset"
   ]
  },
  {
   "cell_type": "markdown",
   "id": "bc6ae505",
   "metadata": {},
   "source": [
    "## Setup\n",
    "\n",
    "First, we import required libraries and read in the data files."
   ]
  },
  {
   "cell_type": "code",
   "execution_count": 21,
   "id": "6bafbc51",
   "metadata": {},
   "outputs": [],
   "source": [
    "# Import required libraries\n",
    "import numpy as np\n",
    "import pandas as pd\n",
    "from scipy.optimize import fsolve\n",
    "import matplotlib.pyplot as plt\n",
    "\n",
    "from sklearn.model_selection import train_test_split\n",
    "from sklearn.preprocessing import MinMaxScaler\n",
    "from sklearn.model_selection import train_test_split\n",
    "from sklearn.linear_model import LogisticRegression\n",
    "from sklearn.metrics import accuracy_score, f1_score, precision_score, recall_score\n",
    "from sklearn.model_selection import GridSearchCV, StratifiedKFold\n",
    "from xgboost import XGBClassifier\n",
    "from sklearn.metrics import classification_report, confusion_matrix\n",
    "from sklearn.ensemble import RandomForestClassifier"
   ]
  },
  {
   "cell_type": "code",
   "execution_count": 22,
   "id": "56b101fd",
   "metadata": {},
   "outputs": [],
   "source": [
    "# Read in data files\n",
    "df_crop = pd.read_csv('Crop_recommendation.csv')\n",
    "df_irr = pd.read_csv('Irrigation.csv')"
   ]
  },
  {
   "cell_type": "markdown",
   "id": "d32ad649",
   "metadata": {},
   "source": [
    "Then, we get a snippet of each dataset."
   ]
  },
  {
   "cell_type": "code",
   "execution_count": 23,
   "id": "8ff68164",
   "metadata": {},
   "outputs": [
    {
     "data": {
      "text/html": [
       "<div>\n",
       "<style scoped>\n",
       "    .dataframe tbody tr th:only-of-type {\n",
       "        vertical-align: middle;\n",
       "    }\n",
       "\n",
       "    .dataframe tbody tr th {\n",
       "        vertical-align: top;\n",
       "    }\n",
       "\n",
       "    .dataframe thead th {\n",
       "        text-align: right;\n",
       "    }\n",
       "</style>\n",
       "<table border=\"1\" class=\"dataframe\">\n",
       "  <thead>\n",
       "    <tr style=\"text-align: right;\">\n",
       "      <th></th>\n",
       "      <th>N</th>\n",
       "      <th>P</th>\n",
       "      <th>K</th>\n",
       "      <th>temperature</th>\n",
       "      <th>humidity</th>\n",
       "      <th>ph</th>\n",
       "      <th>rainfall</th>\n",
       "      <th>label</th>\n",
       "    </tr>\n",
       "  </thead>\n",
       "  <tbody>\n",
       "    <tr>\n",
       "      <th>0</th>\n",
       "      <td>90</td>\n",
       "      <td>42</td>\n",
       "      <td>43</td>\n",
       "      <td>20.879744</td>\n",
       "      <td>82.002744</td>\n",
       "      <td>6.502985</td>\n",
       "      <td>202.935536</td>\n",
       "      <td>rice</td>\n",
       "    </tr>\n",
       "    <tr>\n",
       "      <th>1</th>\n",
       "      <td>85</td>\n",
       "      <td>58</td>\n",
       "      <td>41</td>\n",
       "      <td>21.770462</td>\n",
       "      <td>80.319644</td>\n",
       "      <td>7.038096</td>\n",
       "      <td>226.655537</td>\n",
       "      <td>rice</td>\n",
       "    </tr>\n",
       "    <tr>\n",
       "      <th>2</th>\n",
       "      <td>60</td>\n",
       "      <td>55</td>\n",
       "      <td>44</td>\n",
       "      <td>23.004459</td>\n",
       "      <td>82.320763</td>\n",
       "      <td>7.840207</td>\n",
       "      <td>263.964248</td>\n",
       "      <td>rice</td>\n",
       "    </tr>\n",
       "    <tr>\n",
       "      <th>3</th>\n",
       "      <td>74</td>\n",
       "      <td>35</td>\n",
       "      <td>40</td>\n",
       "      <td>26.491096</td>\n",
       "      <td>80.158363</td>\n",
       "      <td>6.980401</td>\n",
       "      <td>242.864034</td>\n",
       "      <td>rice</td>\n",
       "    </tr>\n",
       "    <tr>\n",
       "      <th>4</th>\n",
       "      <td>78</td>\n",
       "      <td>42</td>\n",
       "      <td>42</td>\n",
       "      <td>20.130175</td>\n",
       "      <td>81.604873</td>\n",
       "      <td>7.628473</td>\n",
       "      <td>262.717340</td>\n",
       "      <td>rice</td>\n",
       "    </tr>\n",
       "  </tbody>\n",
       "</table>\n",
       "</div>"
      ],
      "text/plain": [
       "    N   P   K  temperature   humidity        ph    rainfall label\n",
       "0  90  42  43    20.879744  82.002744  6.502985  202.935536  rice\n",
       "1  85  58  41    21.770462  80.319644  7.038096  226.655537  rice\n",
       "2  60  55  44    23.004459  82.320763  7.840207  263.964248  rice\n",
       "3  74  35  40    26.491096  80.158363  6.980401  242.864034  rice\n",
       "4  78  42  42    20.130175  81.604873  7.628473  262.717340  rice"
      ]
     },
     "execution_count": 23,
     "metadata": {},
     "output_type": "execute_result"
    }
   ],
   "source": [
    "# Display crop recommendation data snippet\n",
    "df_crop.head(5)"
   ]
  },
  {
   "cell_type": "code",
   "execution_count": 24,
   "id": "647dd272",
   "metadata": {},
   "outputs": [
    {
     "data": {
      "text/html": [
       "<div>\n",
       "<style scoped>\n",
       "    .dataframe tbody tr th:only-of-type {\n",
       "        vertical-align: middle;\n",
       "    }\n",
       "\n",
       "    .dataframe tbody tr th {\n",
       "        vertical-align: top;\n",
       "    }\n",
       "\n",
       "    .dataframe thead th {\n",
       "        text-align: right;\n",
       "    }\n",
       "</style>\n",
       "<table border=\"1\" class=\"dataframe\">\n",
       "  <thead>\n",
       "    <tr style=\"text-align: right;\">\n",
       "      <th></th>\n",
       "      <th>crop</th>\n",
       "      <th>moisture</th>\n",
       "      <th>temp</th>\n",
       "      <th>pump</th>\n",
       "    </tr>\n",
       "  </thead>\n",
       "  <tbody>\n",
       "    <tr>\n",
       "      <th>0</th>\n",
       "      <td>cotton</td>\n",
       "      <td>638</td>\n",
       "      <td>16</td>\n",
       "      <td>1</td>\n",
       "    </tr>\n",
       "    <tr>\n",
       "      <th>1</th>\n",
       "      <td>cotton</td>\n",
       "      <td>522</td>\n",
       "      <td>18</td>\n",
       "      <td>1</td>\n",
       "    </tr>\n",
       "    <tr>\n",
       "      <th>2</th>\n",
       "      <td>cotton</td>\n",
       "      <td>741</td>\n",
       "      <td>22</td>\n",
       "      <td>1</td>\n",
       "    </tr>\n",
       "    <tr>\n",
       "      <th>3</th>\n",
       "      <td>cotton</td>\n",
       "      <td>798</td>\n",
       "      <td>32</td>\n",
       "      <td>1</td>\n",
       "    </tr>\n",
       "    <tr>\n",
       "      <th>4</th>\n",
       "      <td>cotton</td>\n",
       "      <td>690</td>\n",
       "      <td>28</td>\n",
       "      <td>1</td>\n",
       "    </tr>\n",
       "  </tbody>\n",
       "</table>\n",
       "</div>"
      ],
      "text/plain": [
       "     crop  moisture  temp  pump\n",
       "0  cotton       638    16     1\n",
       "1  cotton       522    18     1\n",
       "2  cotton       741    22     1\n",
       "3  cotton       798    32     1\n",
       "4  cotton       690    28     1"
      ]
     },
     "execution_count": 24,
     "metadata": {},
     "output_type": "execute_result"
    }
   ],
   "source": [
    "# Display intelligent irrigation system data snippet\n",
    "df_irr.head(5)"
   ]
  },
  {
   "cell_type": "markdown",
   "id": "f35a67f9",
   "metadata": {},
   "source": [
    "## ML Model Training on Crop Recommendation Dataset\n",
    "\n",
    "Now, we proceed to train ML models on the crop recommendation dataset."
   ]
  },
  {
   "cell_type": "code",
   "execution_count": 25,
   "id": "416bf1f1",
   "metadata": {},
   "outputs": [],
   "source": [
    "# Set X and y features\n",
    "y = df_crop['label']\n",
    "X = df_crop.drop('label', axis = 1)"
   ]
  },
  {
   "cell_type": "code",
   "execution_count": 26,
   "id": "c6d6c8a7",
   "metadata": {},
   "outputs": [],
   "source": [
    "# Split into training and test set\n",
    "X_train, X_test, y_train, y_test = train_test_split(X, y, test_size = 0.1, random_state = 1)"
   ]
  },
  {
   "cell_type": "markdown",
   "id": "62d2460d",
   "metadata": {},
   "source": [
    "We will create mappings to encode the y-variable (crop) in the dataset."
   ]
  },
  {
   "cell_type": "code",
   "execution_count": 27,
   "id": "9e8d1655",
   "metadata": {},
   "outputs": [],
   "source": [
    "# Create dict to store actual and encoded y values mapping\n",
    "crop_key = {key: value for key, value in zip(set(df_crop['label']), range(0, 22))}"
   ]
  },
  {
   "cell_type": "code",
   "execution_count": 28,
   "id": "c94ac2fd",
   "metadata": {},
   "outputs": [],
   "source": [
    "# Encode y values\n",
    "y_train = [crop_key[y] for y in y_train]\n",
    "y_test = [crop_key[y] for y in y_test]"
   ]
  },
  {
   "cell_type": "code",
   "execution_count": 54,
   "id": "e0155f3b",
   "metadata": {},
   "outputs": [
    {
     "data": {
      "text/plain": [
       "dict_keys(['coconut', 'jute', 'muskmelon', 'grapes', 'cotton', 'pomegranate', 'watermelon', 'blackgram', 'kidneybeans', 'rice', 'maize', 'mothbeans', 'mungbean', 'coffee', 'pigeonpeas', 'mango', 'papaya', 'banana', 'orange', 'apple', 'lentil', 'chickpea'])"
      ]
     },
     "execution_count": 54,
     "metadata": {},
     "output_type": "execute_result"
    }
   ],
   "source": [
    "# Print crop key-mappings\n",
    "crop_key.keys()"
   ]
  },
  {
   "cell_type": "markdown",
   "id": "4d5f9d6e",
   "metadata": {},
   "source": [
    "Now, we train random forest & XGBoost models on the datasets. We will use a stratified 5-fold cross validation to maintain the percentage of each class and to tune the model hyperparameters. The classification report on the test data, using the best hyperparameters of each model, is printed below."
   ]
  },
  {
   "cell_type": "code",
   "execution_count": 30,
   "id": "babe3d38",
   "metadata": {},
   "outputs": [
    {
     "name": "stdout",
     "output_type": "stream",
     "text": [
      "              precision    recall  f1-score   support\n",
      "\n",
      "           0       0.89      1.00      0.94         8\n",
      "           1       1.00      0.31      0.47        13\n",
      "           2       1.00      1.00      1.00        12\n",
      "           3       1.00      1.00      1.00        13\n",
      "           4       1.00      1.00      1.00        14\n",
      "           5       1.00      0.91      0.95        11\n",
      "           6       1.00      1.00      1.00        12\n",
      "           7       0.90      1.00      0.95         9\n",
      "           8       1.00      1.00      1.00         7\n",
      "           9       0.50      1.00      0.67         9\n",
      "          10       1.00      1.00      1.00        10\n",
      "          11       1.00      0.86      0.92         7\n",
      "          12       1.00      1.00      1.00        14\n",
      "          13       1.00      1.00      1.00         9\n",
      "          14       1.00      1.00      1.00         8\n",
      "          15       1.00      1.00      1.00         8\n",
      "          16       1.00      1.00      1.00         9\n",
      "          17       1.00      1.00      1.00        11\n",
      "          18       1.00      1.00      1.00         8\n",
      "          19       1.00      1.00      1.00         8\n",
      "          20       1.00      1.00      1.00        11\n",
      "          21       1.00      1.00      1.00         9\n",
      "\n",
      "    accuracy                           0.95       220\n",
      "   macro avg       0.97      0.96      0.95       220\n",
      "weighted avg       0.97      0.95      0.95       220\n",
      "\n"
     ]
    }
   ],
   "source": [
    "# Hyperparameter tuning on Random Forest model\n",
    "grid_values = {'n_estimators': [2,3,4,5,6,7],\n",
    "                'max_depth' : [2,3,4,5,6,7]}\n",
    "\n",
    "# Define algorithm\n",
    "rf = RandomForestClassifier(random_state = 1)\n",
    "\n",
    "# Perform stratified 5-fold cross validation to get optimal hyperparameters\n",
    "cross_validation = StratifiedKFold(n_splits = 5)\n",
    "\n",
    "grid_rf_model = GridSearchCV(rf, param_grid = grid_values, scoring = \"f1_macro\", cv = cross_validation)\n",
    "grid_rf_model.fit(X_train, y_train)\n",
    "\n",
    "# Predict on test set\n",
    "y_pred_rf = grid_rf_model.predict(X_test)\n",
    "\n",
    "# Print classification report on test set\n",
    "print(classification_report(y_test, y_pred_rf))"
   ]
  },
  {
   "cell_type": "markdown",
   "id": "cfa76571",
   "metadata": {},
   "source": [
    "Below are the best hyperparameters for the Random Forest model. "
   ]
  },
  {
   "cell_type": "code",
   "execution_count": 31,
   "id": "a2734232",
   "metadata": {},
   "outputs": [
    {
     "data": {
      "text/html": [
       "<style>#sk-container-id-2 {color: black;}#sk-container-id-2 pre{padding: 0;}#sk-container-id-2 div.sk-toggleable {background-color: white;}#sk-container-id-2 label.sk-toggleable__label {cursor: pointer;display: block;width: 100%;margin-bottom: 0;padding: 0.3em;box-sizing: border-box;text-align: center;}#sk-container-id-2 label.sk-toggleable__label-arrow:before {content: \"▸\";float: left;margin-right: 0.25em;color: #696969;}#sk-container-id-2 label.sk-toggleable__label-arrow:hover:before {color: black;}#sk-container-id-2 div.sk-estimator:hover label.sk-toggleable__label-arrow:before {color: black;}#sk-container-id-2 div.sk-toggleable__content {max-height: 0;max-width: 0;overflow: hidden;text-align: left;background-color: #f0f8ff;}#sk-container-id-2 div.sk-toggleable__content pre {margin: 0.2em;color: black;border-radius: 0.25em;background-color: #f0f8ff;}#sk-container-id-2 input.sk-toggleable__control:checked~div.sk-toggleable__content {max-height: 200px;max-width: 100%;overflow: auto;}#sk-container-id-2 input.sk-toggleable__control:checked~label.sk-toggleable__label-arrow:before {content: \"▾\";}#sk-container-id-2 div.sk-estimator input.sk-toggleable__control:checked~label.sk-toggleable__label {background-color: #d4ebff;}#sk-container-id-2 div.sk-label input.sk-toggleable__control:checked~label.sk-toggleable__label {background-color: #d4ebff;}#sk-container-id-2 input.sk-hidden--visually {border: 0;clip: rect(1px 1px 1px 1px);clip: rect(1px, 1px, 1px, 1px);height: 1px;margin: -1px;overflow: hidden;padding: 0;position: absolute;width: 1px;}#sk-container-id-2 div.sk-estimator {font-family: monospace;background-color: #f0f8ff;border: 1px dotted black;border-radius: 0.25em;box-sizing: border-box;margin-bottom: 0.5em;}#sk-container-id-2 div.sk-estimator:hover {background-color: #d4ebff;}#sk-container-id-2 div.sk-parallel-item::after {content: \"\";width: 100%;border-bottom: 1px solid gray;flex-grow: 1;}#sk-container-id-2 div.sk-label:hover label.sk-toggleable__label {background-color: #d4ebff;}#sk-container-id-2 div.sk-serial::before {content: \"\";position: absolute;border-left: 1px solid gray;box-sizing: border-box;top: 0;bottom: 0;left: 50%;z-index: 0;}#sk-container-id-2 div.sk-serial {display: flex;flex-direction: column;align-items: center;background-color: white;padding-right: 0.2em;padding-left: 0.2em;position: relative;}#sk-container-id-2 div.sk-item {position: relative;z-index: 1;}#sk-container-id-2 div.sk-parallel {display: flex;align-items: stretch;justify-content: center;background-color: white;position: relative;}#sk-container-id-2 div.sk-item::before, #sk-container-id-2 div.sk-parallel-item::before {content: \"\";position: absolute;border-left: 1px solid gray;box-sizing: border-box;top: 0;bottom: 0;left: 50%;z-index: -1;}#sk-container-id-2 div.sk-parallel-item {display: flex;flex-direction: column;z-index: 1;position: relative;background-color: white;}#sk-container-id-2 div.sk-parallel-item:first-child::after {align-self: flex-end;width: 50%;}#sk-container-id-2 div.sk-parallel-item:last-child::after {align-self: flex-start;width: 50%;}#sk-container-id-2 div.sk-parallel-item:only-child::after {width: 0;}#sk-container-id-2 div.sk-dashed-wrapped {border: 1px dashed gray;margin: 0 0.4em 0.5em 0.4em;box-sizing: border-box;padding-bottom: 0.4em;background-color: white;}#sk-container-id-2 div.sk-label label {font-family: monospace;font-weight: bold;display: inline-block;line-height: 1.2em;}#sk-container-id-2 div.sk-label-container {text-align: center;}#sk-container-id-2 div.sk-container {/* jupyter's `normalize.less` sets `[hidden] { display: none; }` but bootstrap.min.css set `[hidden] { display: none !important; }` so we also need the `!important` here to be able to override the default hidden behavior on the sphinx rendered scikit-learn.org. See: https://github.com/scikit-learn/scikit-learn/issues/21755 */display: inline-block !important;position: relative;}#sk-container-id-2 div.sk-text-repr-fallback {display: none;}</style><div id=\"sk-container-id-2\" class=\"sk-top-container\"><div class=\"sk-text-repr-fallback\"><pre>RandomForestClassifier(max_depth=7, n_estimators=5, random_state=1)</pre><b>In a Jupyter environment, please rerun this cell to show the HTML representation or trust the notebook. <br />On GitHub, the HTML representation is unable to render, please try loading this page with nbviewer.org.</b></div><div class=\"sk-container\" hidden><div class=\"sk-item\"><div class=\"sk-estimator sk-toggleable\"><input class=\"sk-toggleable__control sk-hidden--visually\" id=\"sk-estimator-id-2\" type=\"checkbox\" checked><label for=\"sk-estimator-id-2\" class=\"sk-toggleable__label sk-toggleable__label-arrow\">RandomForestClassifier</label><div class=\"sk-toggleable__content\"><pre>RandomForestClassifier(max_depth=7, n_estimators=5, random_state=1)</pre></div></div></div></div></div>"
      ],
      "text/plain": [
       "RandomForestClassifier(max_depth=7, n_estimators=5, random_state=1)"
      ]
     },
     "execution_count": 31,
     "metadata": {},
     "output_type": "execute_result"
    }
   ],
   "source": [
    "# Print best estimator\n",
    "grid_rf_model.best_estimator_"
   ]
  },
  {
   "cell_type": "markdown",
   "id": "3e6dc27d",
   "metadata": {},
   "source": [
    "For the random forest model, the top 3 features are humidity, rainfall, and K (content of Potassium)."
   ]
  },
  {
   "cell_type": "code",
   "execution_count": 32,
   "id": "d9c81990",
   "metadata": {},
   "outputs": [
    {
     "data": {
      "text/plain": [
       "<Axes: >"
      ]
     },
     "execution_count": 32,
     "metadata": {},
     "output_type": "execute_result"
    },
    {
     "data": {
      "image/png": "[encoded data removed]",
      "text/plain": [
       "<Figure size 640x480 with 1 Axes>"
      ]
     },
     "metadata": {},
     "output_type": "display_data"
    }
   ],
   "source": [
    "# Feature importance of RF model\n",
    "feat_importances_rf = pd.Series(grid_rf_model.best_estimator_.feature_importances_, \n",
    "                             index = X.columns).sort_values(ascending = True)\n",
    "feat_importances_rf.plot(kind = 'barh')"
   ]
  },
  {
   "cell_type": "markdown",
   "id": "a7155bf6",
   "metadata": {},
   "source": [
    "And here are the results for XGBoost."
   ]
  },
  {
   "cell_type": "code",
   "execution_count": 34,
   "id": "dc6dac69",
   "metadata": {},
   "outputs": [
    {
     "name": "stdout",
     "output_type": "stream",
     "text": [
      "              precision    recall  f1-score   support\n",
      "\n",
      "           0       1.00      1.00      1.00         8\n",
      "           1       0.93      1.00      0.96        13\n",
      "           2       1.00      1.00      1.00        12\n",
      "           3       1.00      1.00      1.00        13\n",
      "           4       1.00      1.00      1.00        14\n",
      "           5       1.00      1.00      1.00        11\n",
      "           6       1.00      1.00      1.00        12\n",
      "           7       1.00      1.00      1.00         9\n",
      "           8       1.00      1.00      1.00         7\n",
      "           9       1.00      0.89      0.94         9\n",
      "          10       1.00      1.00      1.00        10\n",
      "          11       1.00      1.00      1.00         7\n",
      "          12       1.00      1.00      1.00        14\n",
      "          13       1.00      1.00      1.00         9\n",
      "          14       1.00      1.00      1.00         8\n",
      "          15       1.00      1.00      1.00         8\n",
      "          16       1.00      0.89      0.94         9\n",
      "          17       0.92      1.00      0.96        11\n",
      "          18       1.00      1.00      1.00         8\n",
      "          19       1.00      1.00      1.00         8\n",
      "          20       1.00      1.00      1.00        11\n",
      "          21       1.00      1.00      1.00         9\n",
      "\n",
      "    accuracy                           0.99       220\n",
      "   macro avg       0.99      0.99      0.99       220\n",
      "weighted avg       0.99      0.99      0.99       220\n",
      "\n"
     ]
    }
   ],
   "source": [
    "# Hyperparameter tuning on XGBoost model\n",
    "grid_values = {'max_depth': [2,3,4,5,6],\n",
    "                'n_estimators' : [2,3,4,5,6]}\n",
    "\n",
    "# Define algorithm\n",
    "xgb = XGBClassifier(random_state = 1)\n",
    "\n",
    "# Perform stratified 5-fold cross validation to get optimal hyperparameters\n",
    "cross_validation = StratifiedKFold(n_splits = 5)\n",
    "\n",
    "grid_xgb_model = GridSearchCV(xgb, param_grid = grid_values, scoring = \"f1_macro\", cv = cross_validation)\n",
    "grid_xgb_model.fit(X_train, y_train)\n",
    "\n",
    "# Predict on test set\n",
    "y_pred_xgb = grid_xgb_model.predict(X_test)\n",
    "\n",
    "# Print classification report on test set\n",
    "print(classification_report(y_test, y_pred_xgb))"
   ]
  },
  {
   "cell_type": "markdown",
   "id": "bd8381da",
   "metadata": {},
   "source": [
    "The best hyperparameters, and the feature importances were printed out below."
   ]
  },
  {
   "cell_type": "code",
   "execution_count": 35,
   "id": "765a284a",
   "metadata": {},
   "outputs": [
    {
     "data": {
      "text/html": [
       "<style>#sk-container-id-3 {color: black;}#sk-container-id-3 pre{padding: 0;}#sk-container-id-3 div.sk-toggleable {background-color: white;}#sk-container-id-3 label.sk-toggleable__label {cursor: pointer;display: block;width: 100%;margin-bottom: 0;padding: 0.3em;box-sizing: border-box;text-align: center;}#sk-container-id-3 label.sk-toggleable__label-arrow:before {content: \"▸\";float: left;margin-right: 0.25em;color: #696969;}#sk-container-id-3 label.sk-toggleable__label-arrow:hover:before {color: black;}#sk-container-id-3 div.sk-estimator:hover label.sk-toggleable__label-arrow:before {color: black;}#sk-container-id-3 div.sk-toggleable__content {max-height: 0;max-width: 0;overflow: hidden;text-align: left;background-color: #f0f8ff;}#sk-container-id-3 div.sk-toggleable__content pre {margin: 0.2em;color: black;border-radius: 0.25em;background-color: #f0f8ff;}#sk-container-id-3 input.sk-toggleable__control:checked~div.sk-toggleable__content {max-height: 200px;max-width: 100%;overflow: auto;}#sk-container-id-3 input.sk-toggleable__control:checked~label.sk-toggleable__label-arrow:before {content: \"▾\";}#sk-container-id-3 div.sk-estimator input.sk-toggleable__control:checked~label.sk-toggleable__label {background-color: #d4ebff;}#sk-container-id-3 div.sk-label input.sk-toggleable__control:checked~label.sk-toggleable__label {background-color: #d4ebff;}#sk-container-id-3 input.sk-hidden--visually {border: 0;clip: rect(1px 1px 1px 1px);clip: rect(1px, 1px, 1px, 1px);height: 1px;margin: -1px;overflow: hidden;padding: 0;position: absolute;width: 1px;}#sk-container-id-3 div.sk-estimator {font-family: monospace;background-color: #f0f8ff;border: 1px dotted black;border-radius: 0.25em;box-sizing: border-box;margin-bottom: 0.5em;}#sk-container-id-3 div.sk-estimator:hover {background-color: #d4ebff;}#sk-container-id-3 div.sk-parallel-item::after {content: \"\";width: 100%;border-bottom: 1px solid gray;flex-grow: 1;}#sk-container-id-3 div.sk-label:hover label.sk-toggleable__label {background-color: #d4ebff;}#sk-container-id-3 div.sk-serial::before {content: \"\";position: absolute;border-left: 1px solid gray;box-sizing: border-box;top: 0;bottom: 0;left: 50%;z-index: 0;}#sk-container-id-3 div.sk-serial {display: flex;flex-direction: column;align-items: center;background-color: white;padding-right: 0.2em;padding-left: 0.2em;position: relative;}#sk-container-id-3 div.sk-item {position: relative;z-index: 1;}#sk-container-id-3 div.sk-parallel {display: flex;align-items: stretch;justify-content: center;background-color: white;position: relative;}#sk-container-id-3 div.sk-item::before, #sk-container-id-3 div.sk-parallel-item::before {content: \"\";position: absolute;border-left: 1px solid gray;box-sizing: border-box;top: 0;bottom: 0;left: 50%;z-index: -1;}#sk-container-id-3 div.sk-parallel-item {display: flex;flex-direction: column;z-index: 1;position: relative;background-color: white;}#sk-container-id-3 div.sk-parallel-item:first-child::after {align-self: flex-end;width: 50%;}#sk-container-id-3 div.sk-parallel-item:last-child::after {align-self: flex-start;width: 50%;}#sk-container-id-3 div.sk-parallel-item:only-child::after {width: 0;}#sk-container-id-3 div.sk-dashed-wrapped {border: 1px dashed gray;margin: 0 0.4em 0.5em 0.4em;box-sizing: border-box;padding-bottom: 0.4em;background-color: white;}#sk-container-id-3 div.sk-label label {font-family: monospace;font-weight: bold;display: inline-block;line-height: 1.2em;}#sk-container-id-3 div.sk-label-container {text-align: center;}#sk-container-id-3 div.sk-container {/* jupyter's `normalize.less` sets `[hidden] { display: none; }` but bootstrap.min.css set `[hidden] { display: none !important; }` so we also need the `!important` here to be able to override the default hidden behavior on the sphinx rendered scikit-learn.org. See: https://github.com/scikit-learn/scikit-learn/issues/21755 */display: inline-block !important;position: relative;}#sk-container-id-3 div.sk-text-repr-fallback {display: none;}</style><div id=\"sk-container-id-3\" class=\"sk-top-container\"><div class=\"sk-text-repr-fallback\"><pre>XGBClassifier(base_score=None, booster=None, callbacks=None,\n",
       "              colsample_bylevel=None, colsample_bynode=None,\n",
       "              colsample_bytree=None, device=None, early_stopping_rounds=None,\n",
       "              enable_categorical=False, eval_metric=None, feature_types=None,\n",
       "              gamma=None, grow_policy=None, importance_type=None,\n",
       "              interaction_constraints=None, learning_rate=None, max_bin=None,\n",
       "              max_cat_threshold=None, max_cat_to_onehot=None,\n",
       "              max_delta_step=None, max_depth=6, max_leaves=None,\n",
       "              min_child_weight=None, missing=nan, monotone_constraints=None,\n",
       "              multi_strategy=None, n_estimators=6, n_jobs=None,\n",
       "              num_parallel_tree=None, objective=&#x27;multi:softprob&#x27;, ...)</pre><b>In a Jupyter environment, please rerun this cell to show the HTML representation or trust the notebook. <br />On GitHub, the HTML representation is unable to render, please try loading this page with nbviewer.org.</b></div><div class=\"sk-container\" hidden><div class=\"sk-item\"><div class=\"sk-estimator sk-toggleable\"><input class=\"sk-toggleable__control sk-hidden--visually\" id=\"sk-estimator-id-3\" type=\"checkbox\" checked><label for=\"sk-estimator-id-3\" class=\"sk-toggleable__label sk-toggleable__label-arrow\">XGBClassifier</label><div class=\"sk-toggleable__content\"><pre>XGBClassifier(base_score=None, booster=None, callbacks=None,\n",
       "              colsample_bylevel=None, colsample_bynode=None,\n",
       "              colsample_bytree=None, device=None, early_stopping_rounds=None,\n",
       "              enable_categorical=False, eval_metric=None, feature_types=None,\n",
       "              gamma=None, grow_policy=None, importance_type=None,\n",
       "              interaction_constraints=None, learning_rate=None, max_bin=None,\n",
       "              max_cat_threshold=None, max_cat_to_onehot=None,\n",
       "              max_delta_step=None, max_depth=6, max_leaves=None,\n",
       "              min_child_weight=None, missing=nan, monotone_constraints=None,\n",
       "              multi_strategy=None, n_estimators=6, n_jobs=None,\n",
       "              num_parallel_tree=None, objective=&#x27;multi:softprob&#x27;, ...)</pre></div></div></div></div></div>"
      ],
      "text/plain": [
       "XGBClassifier(base_score=None, booster=None, callbacks=None,\n",
       "              colsample_bylevel=None, colsample_bynode=None,\n",
       "              colsample_bytree=None, device=None, early_stopping_rounds=None,\n",
       "              enable_categorical=False, eval_metric=None, feature_types=None,\n",
       "              gamma=None, grow_policy=None, importance_type=None,\n",
       "              interaction_constraints=None, learning_rate=None, max_bin=None,\n",
       "              max_cat_threshold=None, max_cat_to_onehot=None,\n",
       "              max_delta_step=None, max_depth=6, max_leaves=None,\n",
       "              min_child_weight=None, missing=nan, monotone_constraints=None,\n",
       "              multi_strategy=None, n_estimators=6, n_jobs=None,\n",
       "              num_parallel_tree=None, objective='multi:softprob', ...)"
      ]
     },
     "execution_count": 35,
     "metadata": {},
     "output_type": "execute_result"
    }
   ],
   "source": [
    "# Print best estimator\n",
    "grid_xgb_model.best_estimator_"
   ]
  },
  {
   "cell_type": "markdown",
   "id": "b1e156f5",
   "metadata": {},
   "source": [
    "For the XGBoost, the top 3 important features are K (content of Potassium), P (content of Phosphorous), and N (content of Nitrogen). Rainfall and humidity seems to contribute as significantly to the model, as P (content of Phosphorous) & N (content of Nitrogen)."
   ]
  },
  {
   "cell_type": "code",
   "execution_count": 36,
   "id": "9a89dc61",
   "metadata": {},
   "outputs": [
    {
     "data": {
      "text/plain": [
       "<Axes: >"
      ]
     },
     "execution_count": 36,
     "metadata": {},
     "output_type": "execute_result"
    },
    {
     "data": {
      "image/png": "[encoded data removed]",
      "text/plain": [
       "<Figure size 640x480 with 1 Axes>"
      ]
     },
     "metadata": {},
     "output_type": "display_data"
    }
   ],
   "source": [
    "# Feature importance of XGBoost model\n",
    "feat_importances_xgb = pd.Series(grid_xgb_model.best_estimator_.feature_importances_, \n",
    "                             index = X.columns).sort_values(ascending = True)\n",
    "feat_importances_xgb.plot(kind = 'barh')"
   ]
  },
  {
   "cell_type": "markdown",
   "id": "f58c9f46",
   "metadata": {},
   "source": [
    "### Using the Crop Recommendation Model\n",
    "\n",
    "Since the XGBoost performs better (in terms of accuracy, recall, and precision) in the test set, it will be the model we use for inference. \n",
    "\n",
    "Below, we can try out the model to recommend suitable crops. In the first example, we can use the code to obtain the best crop to plant in the given soil, whereas in the second example, we will obtain the best n plants to plant in the given soil."
   ]
  },
  {
   "cell_type": "code",
   "execution_count": 64,
   "id": "5be3ff1e",
   "metadata": {},
   "outputs": [
    {
     "name": "stdout",
     "output_type": "stream",
     "text": [
      "The best crop to plant in the given soil is grapes.\n"
     ]
    }
   ],
   "source": [
    "# Input values - These values can be changed\n",
    "N_val = 25\n",
    "P_val = 129\n",
    "K_val = 195\n",
    "temperature_val = 18\n",
    "humidity_val = 81\n",
    "ph_val = 5\n",
    "rainfall_val = 73\n",
    "\n",
    "# Prediction code\n",
    "X_to_pred = [N_val, P_val, K_val, temperature_val, humidity_val, ph_val, rainfall_val]\n",
    "crop_ind = grid_xgb_model.predict([X_to_pred])\n",
    "crops_recommended = list(crop_key.keys())[crop_ind[0]]\n",
    "\n",
    "print('The best crop to plant in the given soil is {}.'.format(crops_recommended))"
   ]
  },
  {
   "cell_type": "code",
   "execution_count": 94,
   "id": "238429ce",
   "metadata": {},
   "outputs": [
    {
     "name": "stdout",
     "output_type": "stream",
     "text": [
      "The best 3 crop(s) to plant in the given soil is: ['grapes', 'pigeonpeas', 'mothbeans']\n"
     ]
    }
   ],
   "source": [
    "# Input - This value can be changed\n",
    "top_n = 3\n",
    "\n",
    "# Get top n crops\n",
    "probs_dict = dict(zip(list(crop_key.keys()), grid_xgb_model.predict_proba([X_to_pred])[0]))\n",
    "sorted_probs = sorted(probs_dict.items(), key = lambda x: x[1], reverse = True)\n",
    "\n",
    "crops_recommended = [k for k,v in sorted_probs[:top_n]]\n",
    "print('The best {} crop(s) to plant in the given soil is: {}.'.format(top_n, crops_recommended))"
   ]
  },
  {
   "cell_type": "markdown",
   "id": "f93a4acf",
   "metadata": {},
   "source": [
    "## ML Model Training on Intelligent Irrigation System Dataset\n",
    "\n",
    "Now, we'll be preforming model training on an automatic irrigation system dataset;"
   ]
  },
  {
   "cell_type": "code",
   "execution_count": 98,
   "id": "b2fee290",
   "metadata": {},
   "outputs": [],
   "source": [
    "# Set X and y features\n",
    "y = df_irr['pump']\n",
    "X = df_irr.drop(['pump', 'crop'], axis = 1)"
   ]
  },
  {
   "cell_type": "code",
   "execution_count": 99,
   "id": "1ad6e22b",
   "metadata": {},
   "outputs": [],
   "source": [
    "# Split into training and test set\n",
    "X_train, X_test, y_train, y_test = train_test_split(X, y, test_size = 0.4, random_state = 1)"
   ]
  },
  {
   "cell_type": "code",
   "execution_count": 100,
   "id": "12376459",
   "metadata": {},
   "outputs": [],
   "source": [
    "# Preprocessing\n",
    "X_train = X_train.values\n",
    "X_test = X_test.values"
   ]
  },
  {
   "cell_type": "markdown",
   "id": "612714b3",
   "metadata": {},
   "source": [
    "We will start by training a ridge regression model (logistic regression with L2 regularization)."
   ]
  },
  {
   "cell_type": "code",
   "execution_count": 101,
   "id": "59475516",
   "metadata": {},
   "outputs": [
    {
     "name": "stdout",
     "output_type": "stream",
     "text": [
      "              precision    recall  f1-score   support\n",
      "\n",
      "           0       1.00      1.00      1.00        18\n",
      "           1       1.00      1.00      1.00        62\n",
      "\n",
      "    accuracy                           1.00        80\n",
      "   macro avg       1.00      1.00      1.00        80\n",
      "weighted avg       1.00      1.00      1.00        80\n",
      "\n"
     ]
    }
   ],
   "source": [
    "# Hyperparameter tuning on Logistic Regression model\n",
    "grid_values = {'C':[0.1, 1, 10, 100, 1000, 10000], 'penalty': ['l2']}\n",
    "\n",
    "# Define algorithm\n",
    "Log_model = LogisticRegression(max_iter = 100, random_state = 1)\n",
    "\n",
    "# Perform stratified 5-fold cross validation\n",
    "cross_validation = StratifiedKFold(n_splits = 5)\n",
    "\n",
    "grid_log_model = GridSearchCV(Log_model, param_grid = grid_values, scoring = 'f1_macro', cv = cross_validation)\n",
    "grid_log_model.fit(X_train, y_train)\n",
    "\n",
    "# Predict on test set\n",
    "y_pred_lr = grid_log_model.predict(X_test)\n",
    "\n",
    "# Print classification report on test set\n",
    "print(classification_report(y_test, y_pred_lr))"
   ]
  },
  {
   "cell_type": "markdown",
   "id": "68004d99",
   "metadata": {},
   "source": [
    "It appears that for our dataset, there is a perfect separation between plants that require and do not require irrigation.\n",
    "\n",
    "To explore this, the decision boundary is potted below."
   ]
  },
  {
   "cell_type": "code",
   "execution_count": 108,
   "id": "220f00cd",
   "metadata": {},
   "outputs": [
    {
     "data": {
      "image/png": "[encoded data removed]",
      "text/plain": [
       "<Figure size 640x480 with 1 Axes>"
      ]
     },
     "metadata": {},
     "output_type": "display_data"
    }
   ],
   "source": [
    "# Create a grid of points for X1 and X2\n",
    "x1_min, x1_max = X_test[:, 0].min() - 1, X_test[:, 0].max() + 1\n",
    "x2_min, x2_max = X_test[:, 1].min() - 1, X_test[:, 1].max() + 1\n",
    "xx1, xx2 = np.meshgrid(np.arange(x1_min, x1_max, 0.01),\n",
    "                       np.arange(x2_min, x2_max, 0.01))\n",
    "\n",
    "# Predict class probabilities for each point\n",
    "Z = grid_log_model.predict_proba(np.c_[xx1.ravel(), xx2.ravel()])[:, 1]\n",
    "Z = Z.reshape(xx1.shape)\n",
    "\n",
    "# Start plot\n",
    "plt.contourf(xx1, xx2, Z, cmap = plt.cm.RdBu_r, alpha = 0.8)\n",
    "plt.xlabel('\\nMoisture')\n",
    "plt.ylabel('Temperature\\n')\n",
    "\n",
    "# Scatter plot for data points\n",
    "plt.scatter(X_train[y_train == 0, 0], X_train[y_train == 0, 1], c = 'navy',\n",
    "            label = 'Irrigation Not Required', edgecolor = 'k')\n",
    "plt.scatter(X_train[y_train == 1, 0], X_train[y_train == 1, 1], c = 'maroon',\n",
    "            label = 'Irrigation Required', edgecolor = 'k')\n",
    "\n",
    "# Add a legend\n",
    "plt.legend()\n",
    "plt.title('Decision Boundary of Logistic Regression Model\\n')\n",
    "plt.show()"
   ]
  },
  {
   "cell_type": "markdown",
   "id": "774c9537",
   "metadata": {},
   "source": [
    "It appears that, generally, when moisture is above 500, irrigation is required. For values closer to this threshold, the temperature also slightly affects the irrigation requirement.\n",
    "\n",
    "In predicting the irrigation needs, moisture is the more significant feature, represented by the larger coefficient in the logistic regression model, whereas temperature is the less significant feature."
   ]
  },
  {
   "cell_type": "code",
   "execution_count": 115,
   "id": "522566f2",
   "metadata": {},
   "outputs": [
    {
     "data": {
      "text/plain": [
       "<Axes: >"
      ]
     },
     "execution_count": 115,
     "metadata": {},
     "output_type": "execute_result"
    },
    {
     "data": {
      "image/png": "[encoded data removed]",
      "text/plain": [
       "<Figure size 640x480 with 1 Axes>"
      ]
     },
     "metadata": {},
     "output_type": "display_data"
    }
   ],
   "source": [
    "# Feature importance of logistic regression model\n",
    "feat_importances_lr = pd.Series(grid_log_model.best_estimator_.coef_[0], \n",
    "                             index = X.columns).sort_values(ascending = True)\n",
    "\n",
    "feat_importances_lr.plot(kind = 'barh')"
   ]
  },
  {
   "cell_type": "markdown",
   "id": "ffe44ac0",
   "metadata": {},
   "source": [
    "### Using the Automatic Irrigation Model\n",
    "\n",
    "Since we have achieved a perfect separation, we won't need to try out other models, and can directly use this logistic regression model for inference.\n",
    "\n",
    "In the first example below, we are directly predicting whether irrigation is needed, whereas in the second example, we're predicting the probability whether irrigation is needed, given the input conditions."
   ]
  },
  {
   "cell_type": "code",
   "execution_count": 120,
   "id": "f6529947",
   "metadata": {},
   "outputs": [
    {
     "name": "stdout",
     "output_type": "stream",
     "text": [
      "Irrigation is required for the input conditions.\n"
     ]
    }
   ],
   "source": [
    "# Input values - These values can be changed\n",
    "moisture_vals = 503\n",
    "temp_vals = 44\n",
    "\n",
    "# Prediction\n",
    "pred = grid_log_model.predict([[moisture_vals, temp_vals]])[0]\n",
    "if pred == 1:\n",
    "    print('Irrigation is required for the input conditions.')\n",
    "else:\n",
    "    print('Irrigation is not required for the input conditions.')"
   ]
  },
  {
   "cell_type": "code",
   "execution_count": 126,
   "id": "b2e38dcd",
   "metadata": {},
   "outputs": [
    {
     "name": "stdout",
     "output_type": "stream",
     "text": [
      "Probability that irrigation is required for the input condition: 82.43%.\n"
     ]
    }
   ],
   "source": [
    "# Input values - These values can be changed\n",
    "moisture_vals = 503\n",
    "temp_vals = 44\n",
    "\n",
    "# Prob prediction\n",
    "prob = grid_log_model.predict_proba([[moisture_vals, temp_vals]])[0][1]\n",
    "print('Probability that irrigation is required for the input condition: {:.2f}%.'.format(prob*100))"
   ]
  },
  {
   "cell_type": "code",
   "execution_count": null,
   "id": "74417c94",
   "metadata": {},
   "outputs": [],
   "source": []
  }
 ],
 "metadata": {
  "kernelspec": {
   "display_name": "Python 3 (ipykernel)",
   "language": "python",
   "name": "python3"
  },
  "language_info": {
   "codemirror_mode": {
    "name": "ipython",
    "version": 3
   },
   "file_extension": ".py",
   "mimetype": "text/x-python",
   "name": "python",
   "nbconvert_exporter": "python",
   "pygments_lexer": "ipython3",
   "version": "3.11.4"
  }
 },
 "nbformat": 4,
 "nbformat_minor": 5
}
